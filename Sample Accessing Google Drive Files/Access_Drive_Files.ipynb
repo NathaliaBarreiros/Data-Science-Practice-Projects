{
 "cells": [
  {
   "cell_type": "code",
   "execution_count": 16,
   "id": "026208e3",
   "metadata": {},
   "outputs": [],
   "source": [
    "# !pip install --upgrade google-api-python-client"
   ]
  },
  {
   "cell_type": "markdown",
   "id": "28c5baa0",
   "metadata": {},
   "source": [
    "### Using Jupyter to download files from Google Drive"
   ]
  },
  {
   "cell_type": "code",
   "execution_count": 58,
   "id": "35ef2fd2",
   "metadata": {},
   "outputs": [],
   "source": [
    "from apiclient import discovery\n",
    "from httplib2 import http\n",
    "import httplib2\n",
    "import oauth2client\n",
    "from oauth2client import file, client, tools"
   ]
  },
  {
   "cell_type": "code",
   "execution_count": 59,
   "id": "87fe86f1",
   "metadata": {
    "scrolled": true
   },
   "outputs": [],
   "source": [
    "obj = lambda: None\n",
    "lmao = {\"auth_host_name\":'localhost', 'noauth_local_webserver':'store_true', 'auth_host_port':[8890, 8891], 'logging_level':'ERROR'}\n",
    "for k, v in lmao.items():\n",
    "    setattr(obj, k, v)\n",
    "    \n",
    "# authorization boilerplate code\n",
    "SCOPES = 'https://www.googleapis.com/auth/drive.readonly'\n",
    "store = file.Storage('token.json')\n",
    "creds = store.get()\n",
    "# The following will give you a link if token.json does not exist, the link allows the user to give this app permission\n",
    "if not creds or creds.invalid:\n",
    "    flow = client.flow_from_clientsecrets('client_id.json', SCOPES)\n",
    "    creds = tools.run_flow(flow, store, obj)"
   ]
  },
  {
   "cell_type": "code",
   "execution_count": 60,
   "id": "656fe0ab",
   "metadata": {},
   "outputs": [
    {
     "name": "stdout",
     "output_type": "stream",
     "text": [
      "<googleapiclient.http.HttpRequest object at 0x10c89da80>\n",
      "Download 100%.\n"
     ]
    }
   ],
   "source": [
    "import io\n",
    "from googleapiclient.http import MediaIoBaseDownload\n",
    "\n",
    "\n",
    "http_d = creds.authorize(httplib2.Http())\n",
    "\n",
    "DRIVE = discovery.build('drive', 'v3', http=http_d)\n",
    "\n",
    "# if you get the shareable link, the link contains this id, replace the file_id below\n",
    "file_id = '1lSElBcUDTkHRfhuFUyiuSL9FY5kW-QWn'\n",
    "request = DRIVE.files().get_media(fileId=file_id)\n",
    "\n",
    "print(request)\n",
    "\n",
    "# replace the filename and extension in the first field below\n",
    "data_name_ext = 'some_dataset.csv'\n",
    "fh = io.FileIO(data_name_ext, mode='w')\n",
    "downloader = MediaIoBaseDownload(fh, request)\n",
    "done = False\n",
    "\n",
    "while done is False:\n",
    "    status, done = downloader.next_chunk()\n",
    "    print(\"Download %d%%.\" % int(status.progress() * 100))  "
   ]
  },
  {
   "cell_type": "markdown",
   "id": "d4aef10f",
   "metadata": {},
   "source": [
    "### Removing file downloaded"
   ]
  },
  {
   "cell_type": "code",
   "execution_count": 61,
   "id": "fed65bc6",
   "metadata": {},
   "outputs": [],
   "source": [
    "import os\n",
    "working_dir = os.getcwd()\n",
    "data_path = working_dir+'/'+data_name_ext\n",
    "os.remove(data_path)"
   ]
  },
  {
   "cell_type": "code",
   "execution_count": null,
   "id": "7e885ea9",
   "metadata": {},
   "outputs": [],
   "source": []
  }
 ],
 "metadata": {
  "kernelspec": {
   "display_name": "Python 3 (ipykernel)",
   "language": "python",
   "name": "python3"
  },
  "language_info": {
   "codemirror_mode": {
    "name": "ipython",
    "version": 3
   },
   "file_extension": ".py",
   "mimetype": "text/x-python",
   "name": "python",
   "nbconvert_exporter": "python",
   "pygments_lexer": "ipython3",
   "version": "3.10.7"
  }
 },
 "nbformat": 4,
 "nbformat_minor": 5
}
