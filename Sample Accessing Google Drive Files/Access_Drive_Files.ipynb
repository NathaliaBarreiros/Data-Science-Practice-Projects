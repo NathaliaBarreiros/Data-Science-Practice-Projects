{
 "cells": [
  {
   "cell_type": "code",
   "execution_count": 16,
   "id": "a52ad118",
   "metadata": {},
   "outputs": [],
   "source": [
    "# !pip install --upgrade google-api-python-client"
   ]
  },
  {
   "cell_type": "markdown",
   "id": "9ce21493",
   "metadata": {},
   "source": [
    "### Using Jupyter to download files from Google Drive"
   ]
  },
  {
   "cell_type": "code",
   "execution_count": 50,
   "id": "e6be0431",
   "metadata": {},
   "outputs": [],
   "source": [
    "from apiclient import discovery\n",
    "from httplib2 import http\n",
    "import httplib2\n",
    "import oauth2client\n",
    "from oauth2client import file, client, tools"
   ]
  },
  {
   "cell_type": "code",
   "execution_count": 51,
   "id": "491c434d",
   "metadata": {
    "scrolled": true
   },
   "outputs": [],
   "source": [
    "obj = lambda: None\n",
    "lmao = {\"auth_host_name\":'localhost', 'noauth_local_webserver':'store_true', 'auth_host_port':[8890, 8891], 'logging_level':'ERROR'}\n",
    "for k, v in lmao.items():\n",
    "    setattr(obj, k, v)\n",
    "    \n",
    "# authorization boilerplate code\n",
    "SCOPES = 'https://www.googleapis.com/auth/drive.readonly'\n",
    "store = file.Storage('token.json')\n",
    "creds = store.get()\n",
    "# The following will give you a link if token.json does not exist, the link allows the user to give this app permission\n",
    "if not creds or creds.invalid:\n",
    "    flow = client.flow_from_clientsecrets('client_id.json', SCOPES)\n",
    "    creds = tools.run_flow(flow, store, obj)"
   ]
  },
  {
   "cell_type": "code",
   "execution_count": 55,
   "id": "fd4493cb",
   "metadata": {},
   "outputs": [
    {
     "name": "stdout",
     "output_type": "stream",
     "text": [
      "<googleapiclient.http.HttpRequest object at 0x10c9359c0>\n",
      "Download 100%.\n"
     ]
    }
   ],
   "source": [
    "# https://drive.google.com/drive/folders/1rthPi8_7d4DhP0DUSj7EkTz3Kw1cWsI0?usp=share_link\n",
    "# https://drive.google.com/file/d/1pm80tKza0qG9ZRvp8WMj3ygnZ57CMimv/view?usp=share_link\n",
    "\n",
    "import io\n",
    "from googleapiclient.http import MediaIoBaseDownload\n",
    "\n",
    "\n",
    "http_d = creds.authorize(httplib2.Http())\n",
    "\n",
    "DRIVE = discovery.build('drive', 'v3', http=http_d)\n",
    "\n",
    "# if you get the shareable link, the link contains this id, replace the file_id below\n",
    "# file_id = '1lSElBcUDTkHRfhuFUyiuSL9FY5kW-QWn'\n",
    "\n",
    "file_id = '1pm80tKza0qG9ZRvp8WMj3ygnZ57CMimv'\n",
    "request = DRIVE.files().get_media(fileId=file_id)\n",
    "\n",
    "print(request)\n",
    "\n",
    "# replace the filename and extension in the first field below\n",
    "data_name_ext = 'some_dataset.jpg'\n",
    "fh = io.FileIO(data_name_ext, mode='w')\n",
    "downloader = MediaIoBaseDownload(fh, request)\n",
    "done = False\n",
    "\n",
    "while done is False:\n",
    "    status, done = downloader.next_chunk()\n",
    "    print(\"Download %d%%.\" % int(status.progress() * 100))  "
   ]
  },
  {
   "cell_type": "markdown",
   "id": "aef57c31",
   "metadata": {},
   "source": [
    "### Removing file downloaded"
   ]
  },
  {
   "cell_type": "code",
   "execution_count": 56,
   "id": "12cdd4fd",
   "metadata": {},
   "outputs": [],
   "source": [
    "import os\n",
    "working_dir = os.getcwd()\n",
    "data_path = working_dir+'/'+data_name_ext\n",
    "os.remove(data_path)"
   ]
  },
  {
   "cell_type": "code",
   "execution_count": null,
   "id": "aae7b774",
   "metadata": {},
   "outputs": [],
   "source": []
  }
 ],
 "metadata": {
  "kernelspec": {
   "display_name": "Python 3 (ipykernel)",
   "language": "python",
   "name": "python3"
  },
  "language_info": {
   "codemirror_mode": {
    "name": "ipython",
    "version": 3
   },
   "file_extension": ".py",
   "mimetype": "text/x-python",
   "name": "python",
   "nbconvert_exporter": "python",
   "pygments_lexer": "ipython3",
   "version": "3.10.7"
  }
 },
 "nbformat": 4,
 "nbformat_minor": 5
}
